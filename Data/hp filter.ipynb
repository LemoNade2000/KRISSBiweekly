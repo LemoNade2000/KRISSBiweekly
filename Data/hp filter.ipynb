{
 "cells": [
  {
   "cell_type": "code",
   "execution_count": 6,
   "metadata": {},
   "outputs": [],
   "source": [
    "import pandas as pd\n",
    "import numpy as np\n",
    "from statsmodels.tsa.filters.hp_filter import hpfilter\n",
    "import matplotlib.pyplot as plt\n",
    "import statsmodels.api as sm\n",
    "import datetime as dt\n",
    "import seaborn as sns\n",
    "import os"
   ]
  },
  {
   "cell_type": "code",
   "execution_count": 23,
   "metadata": {},
   "outputs": [
    {
     "ename": "SyntaxError",
     "evalue": "EOL while scanning string literal (116457534.py, line 2)",
     "output_type": "error",
     "traceback": [
      "\u001b[1;36m  File \u001b[1;32m\"C:\\Users\\HM Lim\\AppData\\Local\\Temp\\ipykernel_11468\\116457534.py\"\u001b[1;36m, line \u001b[1;32m2\u001b[0m\n\u001b[1;33m    ticker = \"\\\\Data\\\\{}+ \".csv\"\u001b[0m\n\u001b[1;37m                                ^\u001b[0m\n\u001b[1;31mSyntaxError\u001b[0m\u001b[1;31m:\u001b[0m EOL while scanning string literal\n"
     ]
    }
   ],
   "source": [
    "\n",
    "def produceHP(ticker):\n",
    "    ticker = \"\\\\Data\\\\{}\".format(ticker) + \".csv\"\n",
    "    dir = os.getcwd() + ticker\n",
    "    data = pd.read_csv(ticker)\n",
    "    data = data.set_index('Date')\n",
    "    x = data.index\n",
    "    x = [dt.datetime.strptime(d, '%Y-%m-%d') for d in x]\n",
    "    price = data['Close']\n",
    "    cycle, trend = sm.tsa.filters.hpfilter(price, 100000)\n",
    "    y = trend\n",
    "    plt.plot(x, y)\n",
    "    y = price\n",
    "    plt.plot(x, y)\n",
    "    plt.show()\n",
    "\n",
    "produceHP(\"TSLA\")\n",
    "produceHP(\"^TNX\")\n"
   ]
  },
  {
   "cell_type": "code",
   "execution_count": null,
   "metadata": {},
   "outputs": [],
   "source": []
  }
 ],
 "metadata": {
  "kernelspec": {
   "display_name": "Python 3.7.4 ('base')",
   "language": "python",
   "name": "python3"
  },
  "language_info": {
   "codemirror_mode": {
    "name": "ipython",
    "version": 3
   },
   "file_extension": ".py",
   "mimetype": "text/x-python",
   "name": "python",
   "nbconvert_exporter": "python",
   "pygments_lexer": "ipython3",
   "version": "3.7.4"
  },
  "orig_nbformat": 4,
  "vscode": {
   "interpreter": {
    "hash": "28d6d9e31a694f2aba28d42b1019d9365f56410d563150feaee59905aa4508a9"
   }
  }
 },
 "nbformat": 4,
 "nbformat_minor": 2
}
