{
 "cells": [
  {
   "cell_type": "code",
   "execution_count": 120,
   "metadata": {},
   "outputs": [],
   "source": [
    "import pandas as pd\n",
    "import numpy as np\n",
    "from statsmodels.tsa.filters.hp_filter import hpfilter\n",
    "import matplotlib.pyplot as plt\n",
    "import statsmodels.api as sm\n",
    "import datetime as dt\n",
    "import seaborn as sns\n",
    "import os\n",
    "from sklearn.model_selection import train_test_split\n",
    "from sklearn.kernel_ridge import KernelRidge\n",
    "from sklearn.linear_model._ridge import Ridge\n",
    "from sklearn.metrics import r2_score\n",
    "from keras.metrics import mean_absolute_percentage_error, RootMeanSquaredError\n",
    "from sklearn.model_selection import GridSearchCV, train_test_split\n",
    "import warnings\n",
    "from xgboost import XGBRegressor\n",
    "warnings.filterwarnings('ignore')\n"
   ]
  },
  {
   "cell_type": "markdown",
   "metadata": {},
   "source": [
    "In this notebook, I will explore the difference between applying regression model (Kernel ridge regression) using different sets of data : a raw data (closing price of stocks daily), and a preprocessed smoothed data (closing price of stocks w/ HP-Filter applied). For the sake of comparison, I will be using two different assets, which are TESLA and US Treasury bond. "
   ]
  },
  {
   "cell_type": "code",
   "execution_count": 59,
   "metadata": {},
   "outputs": [],
   "source": [
    "days = 250 # This parameter sets different number of days we are going to use for our time lag"
   ]
  },
  {
   "cell_type": "markdown",
   "metadata": {},
   "source": [
    "We apply timelag to our data in order to generate more data from a single source. This technique is commonly used in time series analysis."
   ]
  },
  {
   "cell_type": "code",
   "execution_count": 60,
   "metadata": {},
   "outputs": [],
   "source": [
    "\n",
    "def produceHP(ticker):\n",
    "    ticker = \"\\\\Data\\\\{}\".format(ticker) + \".csv\"\n",
    "    dir = os.getcwd() + ticker\n",
    "    data = pd.read_csv(dir)\n",
    "    data = data.set_index('Date')\n",
    "    data['preprice'] = data['Close'].T.shift(1)\n",
    "    data = data.dropna()\n",
    "    data['Close'] = (data['Close'] - data['preprice']) / data['Close']\n",
    "    cycle, trend = sm.tsa.filters.hpfilter(data['Close'], 10000000)\n",
    "    x = data.index\n",
    "    x = [dt.datetime.strptime(d, '%Y-%m-%d') for d in x]\n",
    "    y = trend\n",
    "    # plt.plot(x, y)\n",
    "    # y = data['Close']\n",
    "    # plt.plot(x, y)\n",
    "    # plt.show()\n",
    "    return (data, trend, cycle)\n",
    "\n",
    "produceHP(\"TSLA\")\n",
    "def reshape_data(df):\n",
    "    data_reshape = pd.concat([df['Close'].T.shift(i).to_frame().stack(dropna=False) for i in range(days) ], 1).dropna()\n",
    "    data_reshape.columns = pd.Index(range(days), name='timeLag')\n",
    "    return data_reshape"
   ]
  },
  {
   "cell_type": "markdown",
   "metadata": {},
   "source": [
    "First, we apply HP-filter to a data and see what it does in order to understand it. Then, we apply time lag to the raw data."
   ]
  },
  {
   "cell_type": "code",
   "execution_count": 61,
   "metadata": {},
   "outputs": [],
   "source": [
    "data, trend, cycle = produceHP(\"TSLA\")\n",
    "data_reshape = reshape_data(data)"
   ]
  },
  {
   "cell_type": "markdown",
   "metadata": {},
   "source": [
    "We define a split method in order to set some of the data as test set, and some as training set."
   ]
  },
  {
   "cell_type": "code",
   "execution_count": 125,
   "metadata": {},
   "outputs": [],
   "source": [
    "def split(data):\n",
    "    X = data[np.arange(1, days)]\n",
    "    y = data[0]\n",
    "    X_train, X_test, y_train, y_test = train_test_split(X, y, test_size = 0.25)\n",
    "    X_train, X_valid, y_train, y_valid = train_test_split(X_train, y_train, test_size = 0.25)\n",
    "    return (X_train, X_test, X_valid, y_train, y_test, y_valid)"
   ]
  },
  {
   "cell_type": "markdown",
   "metadata": {},
   "source": [
    "Then, we apply time lag onto HP-Filter too."
   ]
  },
  {
   "cell_type": "code",
   "execution_count": 63,
   "metadata": {},
   "outputs": [],
   "source": [
    "def get_HP_lag(data_reshape):\n",
    "    trend_data = pd.DataFrame()\n",
    "    # trend_data.columns = pd.Index(range(50), name='timeLag')\n",
    "    rows = []\n",
    "    for i in range(len(data_reshape)):\n",
    "        row = data_reshape.iloc[i]\n",
    "        cycle, trend = sm.tsa.filters.hpfilter(row[1:], 100000)\n",
    "        trend = pd.concat([cycle, trend], axis = 0)\n",
    "        trend.index = np.arange(1, len(cycle) * 2 + 1)\n",
    "        rows.append(pd.concat([pd.Series(row[0]), trend], axis = 0))\n",
    "    \n",
    "    trend_data = pd.DataFrame(rows)\n",
    "    trend_data.columns = pd.Index(range(days * 2 - 1), name='timeLag')\n",
    "    return trend_data"
   ]
  },
  {
   "cell_type": "markdown",
   "metadata": {},
   "source": [
    "Since we now have all data that we need for comparison, we run kernel-ridge regression to test how the model performs. We decided to use this model since it supports non-linearity of the data. Hyperparameter, also known as a regularization factor can be adjusted accordingly. If regularization term is 0, it becomes a traditional least-square problem, while higher regularization factor underfits the model. Thus, there are two hyperparameters in our model : number of days used for prediction, and regularization factor alpha."
   ]
  },
  {
   "cell_type": "code",
   "execution_count": 157,
   "metadata": {},
   "outputs": [],
   "source": [
    "def test(data_reshape, reg):\n",
    "    sum = 0.0\n",
    "    for i in range(10):\n",
    "        X_train, X_test, X_valid, y_train, y_test, y_valid = split(data_reshape)\n",
    "        model = XGBRegressor()\n",
    "        model.fit(X_train, y_train, eval_set = [(X_valid, y_valid)], early_stopping_rounds=5, verbose = 0)\n",
    "        prediction = model.predict(X_test)\n",
    "        m = RootMeanSquaredError()\n",
    "        m.update_state(y_test, prediction)\n",
    "        sum += m.result()\n",
    "    return sum.numpy()"
   ]
  },
  {
   "cell_type": "code",
   "execution_count": 65,
   "metadata": {},
   "outputs": [],
   "source": [
    "ticker = \"TSLA\"\n",
    "days = 250"
   ]
  },
  {
   "cell_type": "code",
   "execution_count": 137,
   "metadata": {},
   "outputs": [],
   "source": [
    "def pipeline(t, d, a):\n",
    "    ticker = t\n",
    "    days = d\n",
    "    data, trend, cycle = produceHP(ticker)\n",
    "    data_reshape = reshape_data(data)\n",
    "    trend_reshape = get_HP_lag(data_reshape)\n",
    "    print(trend_reshape)\n",
    "    return (test(data_reshape, a), test(trend_reshape, a))"
   ]
  },
  {
   "cell_type": "code",
   "execution_count": 158,
   "metadata": {},
   "outputs": [
    {
     "name": "stdout",
     "output_type": "stream",
     "text": [
      "timeLag         0    1    2         3         4\n",
      "0        0.006191  0.0  0.0 -0.008359 -0.010339\n",
      "1        0.058946  0.0  0.0  0.006191 -0.008359\n",
      "2       -0.008151  0.0  0.0  0.058946  0.006191\n",
      "3        0.003315  0.0  0.0 -0.008151  0.058946\n",
      "4        0.009321  0.0  0.0  0.003315 -0.008151\n",
      "...           ...  ...  ...       ...       ...\n",
      "1188     0.002464  0.0  0.0 -0.048160 -0.042309\n",
      "1189     0.024493  0.0  0.0  0.002464 -0.048160\n",
      "1190     0.016921  0.0  0.0  0.024493  0.002464\n",
      "1191    -0.073077  0.0  0.0  0.016921  0.024493\n",
      "1192    -0.011159  0.0  0.0 -0.073077  0.016921\n",
      "\n",
      "[1193 rows x 5 columns]\n"
     ]
    },
    {
     "data": {
      "text/plain": [
       "(0.44864658, 0.41115695)"
      ]
     },
     "execution_count": 158,
     "metadata": {},
     "output_type": "execute_result"
    }
   ],
   "source": [
    "pipeline(\"TSLA\", 3, 1)"
   ]
  },
  {
   "cell_type": "markdown",
   "metadata": {},
   "source": [
    "As you can see, RMSE for model using raw data was higher compared to its counterpart using smoothed data. "
   ]
  },
  {
   "cell_type": "code",
   "execution_count": 159,
   "metadata": {},
   "outputs": [
    {
     "name": "stdout",
     "output_type": "stream",
     "text": [
      "timeLag         0    1    2         3         4\n",
      "0        0.009289  0.0  0.0  0.002446 -0.007356\n",
      "1        0.001613  0.0  0.0  0.009289  0.002446\n",
      "2        0.025923  0.0  0.0  0.001613  0.009289\n",
      "3        0.001569  0.0  0.0  0.025923  0.001613\n",
      "4       -0.007507  0.0  0.0  0.001569  0.025923\n",
      "...           ...  ...  ...       ...       ...\n",
      "1188     0.046674  0.0  0.0 -0.002975  0.053398\n",
      "1189     0.021695  0.0  0.0  0.046674 -0.002975\n",
      "1190    -0.069906  0.0  0.0  0.021695  0.046674\n",
      "1191     0.011209  0.0  0.0 -0.069906  0.021695\n",
      "1192     0.014984  0.0  0.0  0.011209 -0.069906\n",
      "\n",
      "[1193 rows x 5 columns]\n"
     ]
    },
    {
     "data": {
      "text/plain": [
       "(0.49542364, 0.4221657)"
      ]
     },
     "execution_count": 159,
     "metadata": {},
     "output_type": "execute_result"
    }
   ],
   "source": [
    "pipeline(\"^TNX\", 3, 1)"
   ]
  },
  {
   "cell_type": "code",
   "execution_count": 176,
   "metadata": {},
   "outputs": [
    {
     "name": "stdout",
     "output_type": "stream",
     "text": [
      "(10, 0.01)\n",
      "(10, 0.01)\n"
     ]
    }
   ],
   "source": [
    "d = [10, 50, 100]\n",
    "a = [0.1, 0.01, 1, 10]\n",
    "rawMin = (0, 0)\n",
    "trendMin = (0, 0)\n",
    "rawScore = 999999\n",
    "trendScore = 999999\n",
    "for day in d:\n",
    "    days = day\n",
    "    ticker = \"TSLA\"\n",
    "    data, trend, cycle = produceHP(ticker)\n",
    "    data_reshape = reshape_data(data)\n",
    "    trend_reshape = get_HP_lag(data_reshape)\n",
    "    for alpha in a:\n",
    "        raw = test(data_reshape, alpha)\n",
    "        raw = raw\n",
    "        trend = test(trend_reshape, alpha)\n",
    "        trend = trend\n",
    "        if raw < rawScore:\n",
    "            rawScore = raw\n",
    "            rawMin = (day, alpha)\n",
    "        if trend < trendScore:\n",
    "            trendScore = trend\n",
    "            trendMin = (day, alpha)\n",
    "print(rawMin)\n",
    "print(trendMin)"
   ]
  },
  {
   "cell_type": "code",
   "execution_count": 177,
   "metadata": {},
   "outputs": [
    {
     "name": "stdout",
     "output_type": "stream",
     "text": [
      "0.43850455\n",
      "0.4281397\n"
     ]
    }
   ],
   "source": [
    "print(rawScore)\n",
    "print(trendScore)"
   ]
  },
  {
   "cell_type": "code",
   "execution_count": 178,
   "metadata": {},
   "outputs": [
    {
     "name": "stdout",
     "output_type": "stream",
     "text": [
      "(10, 10)\n",
      "(50, 1)\n"
     ]
    }
   ],
   "source": [
    "rawMin = (0, 0)\n",
    "trendMin = (0, 0)\n",
    "rawScore = 999999\n",
    "trendScore = 999999\n",
    "for day in d:\n",
    "    days = day\n",
    "    ticker = \"NVDA\"\n",
    "    data, trend, cycle = produceHP(ticker)\n",
    "    data_reshape = reshape_data(data)\n",
    "    trend_reshape = get_HP_lag(data_reshape)\n",
    "    for alpha in a:\n",
    "        raw = test(data_reshape, alpha)\n",
    "        raw = raw\n",
    "        trend = test(trend_reshape, alpha)\n",
    "        trend = trend\n",
    "        if raw < rawScore:\n",
    "            rawScore = raw\n",
    "            rawMin = (day, alpha)\n",
    "        if trend < trendScore:\n",
    "            trendScore = trend\n",
    "            trendMin = (day, alpha)\n",
    "print(rawMin)\n",
    "print(trendMin)"
   ]
  },
  {
   "cell_type": "code",
   "execution_count": 167,
   "metadata": {},
   "outputs": [
    {
     "name": "stdout",
     "output_type": "stream",
     "text": [
      "0.33981633\n",
      "0.31923437\n"
     ]
    }
   ],
   "source": [
    "print(rawScore)\n",
    "print(trendScore)"
   ]
  },
  {
   "cell_type": "code",
   "execution_count": 179,
   "metadata": {},
   "outputs": [
    {
     "name": "stdout",
     "output_type": "stream",
     "text": [
      "(50, 1)\n",
      "(100, 0.01)\n"
     ]
    }
   ],
   "source": [
    "rawMin = (0, 0)\n",
    "trendMin = (0, 0)\n",
    "rawScore = 999999\n",
    "trendScore = 999999\n",
    "for day in d:\n",
    "    days = day\n",
    "    ticker = \"^TNX\"\n",
    "    data, trend, cycle = produceHP(ticker)\n",
    "    data_reshape = reshape_data(data)\n",
    "    trend_reshape = get_HP_lag(data_reshape)\n",
    "    for alpha in a:\n",
    "        raw = test(data_reshape, alpha)\n",
    "        raw = raw\n",
    "        trend = test(trend_reshape, alpha)\n",
    "        trend = trend\n",
    "        if raw < rawScore:\n",
    "            rawScore = raw\n",
    "            rawMin = (day, alpha)\n",
    "        if trend < trendScore:\n",
    "            trendScore = trend\n",
    "            trendMin = (day, alpha)\n",
    "print(rawMin)\n",
    "print(trendMin)"
   ]
  },
  {
   "cell_type": "code",
   "execution_count": 180,
   "metadata": {},
   "outputs": [
    {
     "name": "stdout",
     "output_type": "stream",
     "text": [
      "0.44377202\n",
      "0.43739983\n"
     ]
    }
   ],
   "source": [
    "print(rawScore)\n",
    "print(trendScore)"
   ]
  },
  {
   "cell_type": "code",
   "execution_count": 181,
   "metadata": {},
   "outputs": [
    {
     "name": "stdout",
     "output_type": "stream",
     "text": [
      "(10, 0.01)\n",
      "(10, 0.1)\n",
      "0.3573674\n",
      "0.3548293\n"
     ]
    }
   ],
   "source": [
    "rawMin = (0, 0)\n",
    "trendMin = (0, 0)\n",
    "rawScore = 999999\n",
    "trendScore = 999999\n",
    "for day in d:\n",
    "    days = day\n",
    "    ticker = \"TWTR\"\n",
    "    data, trend, cycle = produceHP(ticker)\n",
    "    data_reshape = reshape_data(data)\n",
    "    trend_reshape = get_HP_lag(data_reshape)\n",
    "    for alpha in a:\n",
    "        raw = test(data_reshape, alpha)\n",
    "        raw = raw\n",
    "        trend = test(trend_reshape, alpha)\n",
    "        trend = trend\n",
    "        if raw < rawScore:\n",
    "            rawScore = raw\n",
    "            rawMin = (day, alpha)\n",
    "        if trend < trendScore:\n",
    "            trendScore = trend\n",
    "            trendMin = (day, alpha)\n",
    "print(rawMin)\n",
    "print(trendMin)\n",
    "print(rawScore)\n",
    "print(trendScore)"
   ]
  },
  {
   "cell_type": "code",
   "execution_count": 182,
   "metadata": {},
   "outputs": [
    {
     "name": "stdout",
     "output_type": "stream",
     "text": [
      "(10, 0.1)\n",
      "(100, 0.1)\n",
      "0.35752606\n",
      "0.35081267\n"
     ]
    }
   ],
   "source": [
    "rawMin = (0, 0)\n",
    "trendMin = (0, 0)\n",
    "rawScore = 999999\n",
    "trendScore = 999999\n",
    "for day in d:\n",
    "    days = day\n",
    "    ticker = \"AXON\"\n",
    "    data, trend, cycle = produceHP(ticker)\n",
    "    data_reshape = reshape_data(data)\n",
    "    trend_reshape = get_HP_lag(data_reshape)\n",
    "    for alpha in a:\n",
    "        raw = test(data_reshape, alpha)\n",
    "        raw = raw\n",
    "        trend = test(trend_reshape, alpha)\n",
    "        trend = trend\n",
    "        if raw < rawScore:\n",
    "            rawScore = raw\n",
    "            rawMin = (day, alpha)\n",
    "        if trend < trendScore:\n",
    "            trendScore = trend\n",
    "            trendMin = (day, alpha)\n",
    "print(rawMin)\n",
    "print(trendMin)\n",
    "print(rawScore) \n",
    "print(trendScore)"
   ]
  },
  {
   "cell_type": "code",
   "execution_count": 183,
   "metadata": {},
   "outputs": [
    {
     "name": "stdout",
     "output_type": "stream",
     "text": [
      "(10, 10)\n",
      "(10, 0.01)\n",
      "0.2807043\n",
      "0.2716002\n"
     ]
    }
   ],
   "source": [
    "rawMin = (0, 0)\n",
    "trendMin = (0, 0)\n",
    "rawScore = 999999\n",
    "trendScore = 999999\n",
    "for day in d:\n",
    "    days = day\n",
    "    ticker = \"FDP\"\n",
    "    data, trend, cycle = produceHP(ticker)\n",
    "    data_reshape = reshape_data(data)\n",
    "    trend_reshape = get_HP_lag(data_reshape)\n",
    "    for alpha in a:\n",
    "        raw = test(data_reshape, alpha)\n",
    "        raw = raw\n",
    "        trend = test(trend_reshape, alpha)\n",
    "        trend = trend\n",
    "        if raw < rawScore:\n",
    "            rawScore = raw\n",
    "            rawMin = (day, alpha)\n",
    "        if trend < trendScore:\n",
    "            trendScore = trend\n",
    "            trendMin = (day, alpha)\n",
    "print(rawMin)\n",
    "print(trendMin)\n",
    "print(rawScore) \n",
    "print(trendScore)"
   ]
  }
 ],
 "metadata": {
  "kernelspec": {
   "display_name": "Python 3.9.13 ('base')",
   "language": "python",
   "name": "python3"
  },
  "language_info": {
   "codemirror_mode": {
    "name": "ipython",
    "version": 3
   },
   "file_extension": ".py",
   "mimetype": "text/x-python",
   "name": "python",
   "nbconvert_exporter": "python",
   "pygments_lexer": "ipython3",
   "version": "3.9.13"
  },
  "orig_nbformat": 4,
  "vscode": {
   "interpreter": {
    "hash": "2cdd6f69fc207ea59adbf85df52271823ef95583e4ba7a186f1887986724f65a"
   }
  }
 },
 "nbformat": 4,
 "nbformat_minor": 2
}
