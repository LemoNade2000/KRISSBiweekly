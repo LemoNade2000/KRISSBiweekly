{
 "cells": [
  {
   "cell_type": "code",
   "execution_count": 120,
   "metadata": {},
   "outputs": [],
   "source": [
    "import pandas as pd\n",
    "import numpy as np\n",
    "from statsmodels.tsa.filters.hp_filter import hpfilter\n",
    "import matplotlib.pyplot as plt\n",
    "import statsmodels.api as sm\n",
    "import datetime as dt\n",
    "import seaborn as sns\n",
    "import os\n",
    "from sklearn.model_selection import train_test_split\n",
    "from sklearn.kernel_ridge import KernelRidge\n",
    "from sklearn.linear_model._ridge import Ridge\n",
    "from sklearn.metrics import r2_score\n",
    "from keras.metrics import mean_absolute_percentage_error, RootMeanSquaredError\n",
    "from sklearn.model_selection import GridSearchCV, train_test_split\n",
    "import warnings\n",
    "from xgboost import XGBRegressor\n",
    "warnings.filterwarnings('ignore')\n"
   ]
  },
  {
   "cell_type": "markdown",
   "metadata": {},
   "source": [
    "In this notebook, I will explore the difference between applying regression model (Kernel ridge regression) using different sets of data : a raw data (closing price of stocks daily), and a preprocessed smoothed data (closing price of stocks w/ HP-Filter applied). For the sake of comparison, I will be using two different assets, which are TESLA and US Treasury bond. "
   ]
  },
  {
   "cell_type": "code",
   "execution_count": 59,
   "metadata": {},
   "outputs": [],
   "source": [
    "days = 250 # This parameter sets different number of days we are going to use for our time lag"
   ]
  },
  {
   "cell_type": "markdown",
   "metadata": {},
   "source": [
    "We apply timelag to our data in order to generate more data from a single source. This technique is commonly used in time series analysis."
   ]
  },
  {
   "cell_type": "code",
   "execution_count": 60,
   "metadata": {},
   "outputs": [],
   "source": [
    "\n",
    "def produceHP(ticker):\n",
    "    ticker = \"\\\\Data\\\\{}\".format(ticker) + \".csv\"\n",
    "    dir = os.getcwd() + ticker\n",
    "    data = pd.read_csv(dir)\n",
    "    data = data.set_index('Date')\n",
    "    data['preprice'] = data['Close'].T.shift(1)\n",
    "    data = data.dropna()\n",
    "    data['Close'] = (data['Close'] - data['preprice']) / data['Close']\n",
    "    cycle, trend = sm.tsa.filters.hpfilter(data['Close'], 10000000)\n",
    "    x = data.index\n",
    "    x = [dt.datetime.strptime(d, '%Y-%m-%d') for d in x]\n",
    "    y = trend\n",
    "    # plt.plot(x, y)\n",
    "    # y = data['Close']\n",
    "    # plt.plot(x, y)\n",
    "    # plt.show()\n",
    "    return (data, trend, cycle)\n",
    "produceHP(\"TSLA\")\n",
    "def reshape_data(df):\n",
    "    data_reshape = pd.concat([df['Close'].T.shift(i).to_frame().stack(dropna=False) for i in range(days) ], 1).dropna()\n",
    "    data_reshape.columns = pd.Index(range(days), name='timeLag')\n",
    "    return data_reshape"
   ]
  },
  {
   "cell_type": "markdown",
   "metadata": {},
   "source": [
    "First, we apply HP-filter to a data and see what it does in order to understand it. Then, we apply time lag to the raw data."
   ]
  },
  {
   "cell_type": "code",
   "execution_count": 61,
   "metadata": {},
   "outputs": [],
   "source": [
    "data, trend, cycle = produceHP(\"TSLA\")\n",
    "data_reshape = reshape_data(data)"
   ]
  },
  {
   "cell_type": "markdown",
   "metadata": {},
   "source": [
    "We define a split method in order to set some of the data as test set, and some as training set."
   ]
  },
  {
   "cell_type": "code",
   "execution_count": 125,
   "metadata": {},
   "outputs": [],
   "source": [
    "def split(data):\n",
    "    X = data[np.arange(1, days)]\n",
    "    y = data[0]\n",
    "    X_train, X_test, y_train, y_test = train_test_split(X, y, test_size = 0.25)\n",
    "    X_train, X_valid, y_train, y_valid = train_test_split(X_train, y_train, test_size = 0.25)\n",
    "    return (X_train, X_test, X_valid, y_train, y_test, y_valid)"
   ]
  },
  {
   "cell_type": "markdown",
   "metadata": {},
   "source": [
    "Then, we apply time lag onto HP-Filter too."
   ]
  },
  {
   "cell_type": "code",
   "execution_count": 63,
   "metadata": {},
   "outputs": [],
   "source": [
    "def get_HP_lag(data_reshape):\n",
    "    trend_data = pd.DataFrame()\n",
    "    # trend_data.columns = pd.Index(range(50), name='timeLag')\n",
    "    rows = []\n",
    "    for i in range(len(data_reshape)):\n",
    "        row = data_reshape.iloc[i]\n",
    "        cycle, trend = sm.tsa.filters.hpfilter(row[1:], 100000)\n",
    "        trend = pd.concat([cycle, trend], axis = 0)\n",
    "        trend.index = np.arange(1, len(cycle) * 2 + 1)\n",
    "        rows.append(pd.concat([pd.Series(row[0]), trend], axis = 0))\n",
    "    trend_data = pd.DataFrame(rows)\n",
    "    trend_data.columns = pd.Index(range(days * 2 - 1), name='timeLag')\n",
    "    return trend_data"
   ]
  },
  {
   "cell_type": "markdown",
   "metadata": {},
   "source": [
    "Since we now have all data that we need for comparison, we run kernel-ridge regression to test how the model performs. We decided to use this model since it supports non-linearity of the data. Hyperparameter, also known as a regularization factor can be adjusted accordingly. If regularization term is 0, it becomes a traditional least-square problem, while higher regularization factor underfits the model. Thus, there are two hyperparameters in our model : number of days used for prediction, and regularization factor alpha."
   ]
  },
  {
   "cell_type": "code",
   "execution_count": 157,
   "metadata": {},
   "outputs": [],
   "source": [
    "def test(data_reshape, reg):\n",
    "    sum = 0.0\n",
    "    for i in range(10):\n",
    "        X_train, X_test, X_valid, y_train, y_test, y_valid = split(data_reshape)\n",
    "        model = XGBRegressor()\n",
    "        model.fit(X_train, y_train, eval_set = [(X_valid, y_valid)], early_stopping_rounds=5, verbose = 0)\n",
    "        prediction = model.predict(X_test)\n",
    "        m = RootMeanSquaredError()\n",
    "        m.update_state(y_test, prediction)\n",
    "        sum += m.result()\n",
    "    return sum.numpy()"
   ]
  },
  {
   "cell_type": "code",
   "execution_count": 65,
   "metadata": {},
   "outputs": [],
   "source": [
    "ticker = \"TSLA\"\n",
    "days = 250"
   ]
  },
  {
   "cell_type": "code",
   "execution_count": 137,
   "metadata": {},
   "outputs": [],
   "source": [
    "def pipeline(t, d, a):\n",
    "    ticker = t\n",
    "    days = d\n",
    "    data, trend, cycle = produceHP(ticker)\n",
    "    data_reshape = reshape_data(data)\n",
    "    trend_reshape = get_HP_lag(data_reshape)\n",
    "    print(trend_reshape)\n",
    "    return (test(data_reshape, a), test(trend_reshape, a))"
   ]
  },
  {
   "cell_type": "code",
   "execution_count": 184,
   "metadata": {},
   "outputs": [
    {
     "name": "stdout",
     "output_type": "stream",
     "text": [
      "timeLag       0         1         2         3         4         5         6    \\\n",
      "0        0.003586 -0.001257  0.017668 -0.031366  0.030052 -0.024811 -0.003755   \n",
      "1        0.017303  0.006218 -0.001750  0.017199 -0.031812  0.029628 -0.025212   \n",
      "2        0.027286  0.018401  0.004756 -0.003149  0.015862 -0.033087  0.028415   \n",
      "3       -0.024550  0.026145  0.016321  0.002762 -0.005058  0.014038 -0.034827   \n",
      "4        0.024296 -0.023869  0.028037  0.018124  0.004477 -0.003429  0.015580   \n",
      "...           ...       ...       ...       ...       ...       ...       ...   \n",
      "1091     0.002464 -0.042675 -0.037198 -0.021627  0.003262  0.022499  0.002306   \n",
      "1092     0.024493  0.007690 -0.043296 -0.037806 -0.022221  0.002681  0.021931   \n",
      "1093     0.016921  0.027776  0.005490 -0.045392 -0.039799 -0.024112  0.000891   \n",
      "1094    -0.073077  0.018896  0.026272  0.004046 -0.046776 -0.041124 -0.025377   \n",
      "1095    -0.011159 -0.065483  0.024118  0.031293  0.008868 -0.042151 -0.036693   \n",
      "\n",
      "timeLag       7         8         9    ...       189       190       191  \\\n",
      "0        0.011077 -0.024378 -0.028113  ...  0.002272  0.002497  0.002723   \n",
      "1       -0.004134  0.010721 -0.024713  ...  0.002787  0.003056  0.003326   \n",
      "2       -0.026364 -0.005226  0.009687  ...  0.003186  0.003495  0.003808   \n",
      "3        0.026758 -0.027941 -0.006723  ...  0.002825  0.003136  0.003450   \n",
      "4       -0.033370  0.028131 -0.026650  ... -0.000170 -0.000024  0.000123   \n",
      "...           ...       ...       ...  ...       ...       ...       ...   \n",
      "1091     0.007014  0.037534 -0.039522  ... -0.013001 -0.013673 -0.014349   \n",
      "1092     0.001750  0.006470  0.037002  ... -0.015662 -0.016519 -0.017384   \n",
      "1093     0.020241  0.000159  0.004976  ... -0.011414 -0.012059 -0.012708   \n",
      "1094    -0.000316  0.019091 -0.000935  ... -0.011247 -0.011907 -0.012574   \n",
      "1095    -0.021139  0.003734  0.022956  ... -0.006249 -0.006672 -0.007096   \n",
      "\n",
      "timeLag       192       193       194       195       196       197       198  \n",
      "0        0.002949  0.003175  0.003401  0.003626  0.003851  0.004075  0.004300  \n",
      "1        0.003598  0.003870  0.004144  0.004418  0.004692  0.004966  0.005239  \n",
      "2        0.004123  0.004440  0.004760  0.005080  0.005401  0.005723  0.006045  \n",
      "3        0.003767  0.004086  0.004408  0.004731  0.005056  0.005382  0.005708  \n",
      "4        0.000270  0.000417  0.000563  0.000710  0.000857  0.001003  0.001149  \n",
      "...           ...       ...       ...       ...       ...       ...       ...  \n",
      "1091    -0.015028 -0.015709 -0.016391 -0.017073 -0.017755 -0.018436 -0.019116  \n",
      "1092    -0.018256 -0.019135 -0.020019 -0.020906 -0.021797 -0.022688 -0.023580  \n",
      "1093    -0.013362 -0.014020 -0.014681 -0.015345 -0.016009 -0.016674 -0.017340  \n",
      "1094    -0.013246 -0.013923 -0.014604 -0.015289 -0.015977 -0.016666 -0.017355  \n",
      "1095    -0.007523 -0.007950 -0.008379 -0.008808 -0.009238 -0.009669 -0.010099  \n",
      "\n",
      "[1096 rows x 199 columns]\n"
     ]
    },
    {
     "data": {
      "text/plain": [
       "(0.47286835, 0.4684743)"
      ]
     },
     "execution_count": 184,
     "metadata": {},
     "output_type": "execute_result"
    }
   ],
   "source": [
    "pipeline(\"TSLA\", 10, 1)"
   ]
  },
  {
   "cell_type": "markdown",
   "metadata": {},
   "source": [
    "As you can see, RMSE for model using raw data was higher compared to its counterpart using smoothed data. "
   ]
  },
  {
   "cell_type": "code",
   "execution_count": 185,
   "metadata": {},
   "outputs": [
    {
     "name": "stdout",
     "output_type": "stream",
     "text": [
      "timeLag       0         1         2         3         4         5         6    \\\n",
      "0       -0.017059 -0.007492 -0.020807 -0.000211 -0.000912 -0.014002  0.004148   \n",
      "1       -0.058887 -0.015812 -0.006232 -0.019597  0.000950  0.000200 -0.012938   \n",
      "2        0.026038 -0.053139 -0.011584 -0.002178 -0.015716  0.004660  0.003741   \n",
      "3       -0.007087  0.029607 -0.055495 -0.013843 -0.004341 -0.017783  0.002687   \n",
      "4        0.025216 -0.003086  0.029853 -0.055258 -0.013615 -0.004122 -0.017574   \n",
      "...           ...       ...       ...       ...       ...       ...       ...   \n",
      "1091     0.046674 -0.014358  0.042307 -0.028178  0.012175  0.001818 -0.013115   \n",
      "1092     0.021695  0.032320 -0.016928  0.039846 -0.030531  0.009930 -0.000320   \n",
      "1093    -0.069906  0.006412  0.031804 -0.017432  0.039354 -0.031011  0.009462   \n",
      "1094     0.011209 -0.079051  0.012698  0.037826 -0.011672  0.044854 -0.025768   \n",
      "1095     0.014984  0.001768 -0.079191  0.012566  0.037702 -0.011789  0.044745   \n",
      "\n",
      "timeLag       7         8         9    ...       189       190       191  \\\n",
      "0        0.004445  0.027152  0.007526  ...  0.004639  0.004744  0.004849   \n",
      "1        0.005164  0.005415  0.028075  ...  0.005224  0.005365  0.005506   \n",
      "2       -0.009565  0.008373  0.008462  ...  0.005385  0.005529  0.005672   \n",
      "3        0.001861 -0.011353  0.006675  ...  0.005055  0.005196  0.005337   \n",
      "4        0.002888  0.002053 -0.011170  ...  0.005162  0.005316  0.005471   \n",
      "...           ...       ...       ...  ...       ...       ...       ...   \n",
      "1091     0.003954 -0.012274  0.008481  ... -0.000527 -0.000524 -0.000520   \n",
      "1092    -0.015149  0.002023 -0.014103  ...  0.000144  0.000195  0.000247   \n",
      "1093    -0.000778 -0.015595  0.001588  ... -0.002376 -0.002466 -0.002558   \n",
      "1094     0.014451  0.003962 -0.011101  ... -0.003248 -0.003414 -0.003583   \n",
      "1095    -0.025870  0.014356  0.003874  ... -0.002604 -0.002738 -0.002875   \n",
      "\n",
      "timeLag       192       193       194       195       196       197       198  \n",
      "0        0.004953  0.005057  0.005160  0.005262  0.005365  0.005467  0.005568  \n",
      "1        0.005648  0.005789  0.005931  0.006072  0.006214  0.006356  0.006497  \n",
      "2        0.005816  0.005961  0.006105  0.006250  0.006395  0.006540  0.006685  \n",
      "3        0.005479  0.005620  0.005761  0.005903  0.006045  0.006187  0.006329  \n",
      "4        0.005626  0.005781  0.005937  0.006093  0.006249  0.006406  0.006563  \n",
      "...           ...       ...       ...       ...       ...       ...       ...  \n",
      "1091    -0.000516 -0.000511 -0.000504 -0.000496 -0.000488 -0.000479 -0.000470  \n",
      "1092     0.000300  0.000355  0.000411  0.000469  0.000529  0.000590  0.000652  \n",
      "1093    -0.002652 -0.002747 -0.002842 -0.002938 -0.003034 -0.003130 -0.003225  \n",
      "1094    -0.003755 -0.003930 -0.004107 -0.004286 -0.004466 -0.004647 -0.004827  \n",
      "1095    -0.003014 -0.003157 -0.003302 -0.003448 -0.003596 -0.003745 -0.003894  \n",
      "\n",
      "[1096 rows x 199 columns]\n"
     ]
    },
    {
     "data": {
      "text/plain": [
       "(0.4784996, 0.49320853)"
      ]
     },
     "execution_count": 185,
     "metadata": {},
     "output_type": "execute_result"
    }
   ],
   "source": [
    "pipeline(\"^TNX\", 10, 1)"
   ]
  },
  {
   "cell_type": "code",
   "execution_count": 176,
   "metadata": {},
   "outputs": [
    {
     "name": "stdout",
     "output_type": "stream",
     "text": [
      "(10, 0.01)\n",
      "(10, 0.01)\n"
     ]
    }
   ],
   "source": [
    "d = [10, 50, 100]\n",
    "a = [0.1, 0.01, 1, 10]\n",
    "rawMin = (0, 0)\n",
    "trendMin = (0, 0)\n",
    "rawScore = 999999\n",
    "trendScore = 999999\n",
    "for day in d:\n",
    "    days = day\n",
    "    ticker = \"TSLA\"\n",
    "    data, trend, cycle = produceHP(ticker)\n",
    "    data_reshape = reshape_data(data)\n",
    "    trend_reshape = get_HP_lag(data_reshape)\n",
    "    for alpha in a:\n",
    "        raw = test(data_reshape, alpha)\n",
    "        raw = raw\n",
    "        trend = test(trend_reshape, alpha)\n",
    "        trend = trend\n",
    "        if raw < rawScore:\n",
    "            rawScore = raw\n",
    "            rawMin = (day, alpha)\n",
    "        if trend < trendScore:\n",
    "            trendScore = trend\n",
    "            trendMin = (day, alpha)\n",
    "print(rawMin)\n",
    "print(trendMin)"
   ]
  },
  {
   "cell_type": "code",
   "execution_count": 177,
   "metadata": {},
   "outputs": [
    {
     "name": "stdout",
     "output_type": "stream",
     "text": [
      "0.43850455\n",
      "0.4281397\n"
     ]
    }
   ],
   "source": [
    "print(rawScore)\n",
    "print(trendScore)"
   ]
  },
  {
   "cell_type": "code",
   "execution_count": 178,
   "metadata": {},
   "outputs": [
    {
     "name": "stdout",
     "output_type": "stream",
     "text": [
      "(10, 10)\n",
      "(50, 1)\n"
     ]
    }
   ],
   "source": [
    "rawMin = (0, 0)\n",
    "trendMin = (0, 0)\n",
    "rawScore = 999999\n",
    "trendScore = 999999\n",
    "for day in d:\n",
    "    days = day\n",
    "    ticker = \"NVDA\"\n",
    "    data, trend, cycle = produceHP(ticker)\n",
    "    data_reshape = reshape_data(data)\n",
    "    trend_reshape = get_HP_lag(data_reshape)\n",
    "    for alpha in a:\n",
    "        raw = test(data_reshape, alpha)\n",
    "        raw = raw\n",
    "        trend = test(trend_reshape, alpha)\n",
    "        trend = trend\n",
    "        if raw < rawScore:\n",
    "            rawScore = raw\n",
    "            rawMin = (day, alpha)\n",
    "        if trend < trendScore:\n",
    "            trendScore = trend\n",
    "            trendMin = (day, alpha)\n",
    "print(rawMin)\n",
    "print(trendMin)"
   ]
  },
  {
   "cell_type": "code",
   "execution_count": 167,
   "metadata": {},
   "outputs": [
    {
     "name": "stdout",
     "output_type": "stream",
     "text": [
      "0.33981633\n",
      "0.31923437\n"
     ]
    }
   ],
   "source": [
    "print(rawScore)\n",
    "print(trendScore)"
   ]
  },
  {
   "cell_type": "code",
   "execution_count": 179,
   "metadata": {},
   "outputs": [
    {
     "name": "stdout",
     "output_type": "stream",
     "text": [
      "(50, 1)\n",
      "(100, 0.01)\n"
     ]
    }
   ],
   "source": [
    "rawMin = (0, 0)\n",
    "trendMin = (0, 0)\n",
    "rawScore = 999999\n",
    "trendScore = 999999\n",
    "for day in d:\n",
    "    days = day\n",
    "    ticker = \"^TNX\"\n",
    "    data, trend, cycle = produceHP(ticker)\n",
    "    data_reshape = reshape_data(data)\n",
    "    trend_reshape = get_HP_lag(data_reshape)\n",
    "    for alpha in a:\n",
    "        raw = test(data_reshape, alpha)\n",
    "        raw = raw\n",
    "        trend = test(trend_reshape, alpha)\n",
    "        trend = trend\n",
    "        if raw < rawScore:\n",
    "            rawScore = raw\n",
    "            rawMin = (day, alpha)\n",
    "        if trend < trendScore:\n",
    "            trendScore = trend\n",
    "            trendMin = (day, alpha)\n",
    "print(rawMin)\n",
    "print(trendMin)"
   ]
  },
  {
   "cell_type": "code",
   "execution_count": 180,
   "metadata": {},
   "outputs": [
    {
     "name": "stdout",
     "output_type": "stream",
     "text": [
      "0.44377202\n",
      "0.43739983\n"
     ]
    }
   ],
   "source": [
    "print(rawScore)\n",
    "print(trendScore)"
   ]
  },
  {
   "cell_type": "code",
   "execution_count": 181,
   "metadata": {},
   "outputs": [
    {
     "name": "stdout",
     "output_type": "stream",
     "text": [
      "(10, 0.01)\n",
      "(10, 0.1)\n",
      "0.3573674\n",
      "0.3548293\n"
     ]
    }
   ],
   "source": [
    "rawMin = (0, 0)\n",
    "trendMin = (0, 0)\n",
    "rawScore = 999999\n",
    "trendScore = 999999\n",
    "for day in d:\n",
    "    days = day\n",
    "    ticker = \"TWTR\"\n",
    "    data, trend, cycle = produceHP(ticker)\n",
    "    data_reshape = reshape_data(data)\n",
    "    trend_reshape = get_HP_lag(data_reshape)\n",
    "    for alpha in a:\n",
    "        raw = test(data_reshape, alpha)\n",
    "        raw = raw\n",
    "        trend = test(trend_reshape, alpha)\n",
    "        trend = trend\n",
    "        if raw < rawScore:\n",
    "            rawScore = raw\n",
    "            rawMin = (day, alpha)\n",
    "        if trend < trendScore:\n",
    "            trendScore = trend\n",
    "            trendMin = (day, alpha)\n",
    "print(rawMin)\n",
    "print(trendMin)\n",
    "print(rawScore)\n",
    "print(trendScore)"
   ]
  },
  {
   "cell_type": "code",
   "execution_count": 182,
   "metadata": {},
   "outputs": [
    {
     "name": "stdout",
     "output_type": "stream",
     "text": [
      "(10, 0.1)\n",
      "(100, 0.1)\n",
      "0.35752606\n",
      "0.35081267\n"
     ]
    }
   ],
   "source": [
    "rawMin = (0, 0)\n",
    "trendMin = (0, 0)\n",
    "rawScore = 999999\n",
    "trendScore = 999999\n",
    "for day in d:\n",
    "    days = day\n",
    "    ticker = \"AXON\"\n",
    "    data, trend, cycle = produceHP(ticker)\n",
    "    data_reshape = reshape_data(data)\n",
    "    trend_reshape = get_HP_lag(data_reshape)\n",
    "    for alpha in a:\n",
    "        raw = test(data_reshape, alpha)\n",
    "        raw = raw\n",
    "        trend = test(trend_reshape, alpha)\n",
    "        trend = trend\n",
    "        if raw < rawScore:\n",
    "            rawScore = raw\n",
    "            rawMin = (day, alpha)\n",
    "        if trend < trendScore:\n",
    "            trendScore = trend\n",
    "            trendMin = (day, alpha)\n",
    "print(rawMin)\n",
    "print(trendMin)\n",
    "print(rawScore) \n",
    "print(trendScore)"
   ]
  },
  {
   "cell_type": "code",
   "execution_count": 183,
   "metadata": {},
   "outputs": [
    {
     "name": "stdout",
     "output_type": "stream",
     "text": [
      "(10, 10)\n",
      "(10, 0.01)\n",
      "0.2807043\n",
      "0.2716002\n"
     ]
    }
   ],
   "source": [
    "rawMin = (0, 0)\n",
    "trendMin = (0, 0)\n",
    "rawScore = 999999\n",
    "trendScore = 999999\n",
    "for day in d:\n",
    "    days = day\n",
    "    ticker = \"FDP\"\n",
    "    data, trend, cycle = produceHP(ticker)\n",
    "    data_reshape = reshape_data(data)\n",
    "    trend_reshape = get_HP_lag(data_reshape)\n",
    "    for alpha in a:\n",
    "        raw = test(data_reshape, alpha)\n",
    "        raw = raw\n",
    "        trend = test(trend_reshape, alpha)\n",
    "        trend = trend\n",
    "        if raw < rawScore:\n",
    "            rawScore = raw\n",
    "            rawMin = (day, alpha)\n",
    "        if trend < trendScore:\n",
    "            trendScore = trend\n",
    "            trendMin = (day, alpha)\n",
    "print(rawMin)\n",
    "print(trendMin)\n",
    "print(rawScore) \n",
    "print(trendScore)"
   ]
  }
 ],
 "metadata": {
  "kernelspec": {
   "display_name": "Python 3.9.13 ('base')",
   "language": "python",
   "name": "python3"
  },
  "language_info": {
   "codemirror_mode": {
    "name": "ipython",
    "version": 3
   },
   "file_extension": ".py",
   "mimetype": "text/x-python",
   "name": "python",
   "nbconvert_exporter": "python",
   "pygments_lexer": "ipython3",
   "version": "3.9.13"
  },
  "orig_nbformat": 4,
  "vscode": {
   "interpreter": {
    "hash": "2cdd6f69fc207ea59adbf85df52271823ef95583e4ba7a186f1887986724f65a"
   }
  }
 },
 "nbformat": 4,
 "nbformat_minor": 2
}
